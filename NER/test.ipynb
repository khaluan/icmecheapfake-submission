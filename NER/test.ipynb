{
 "cells": [
  {
   "cell_type": "code",
   "execution_count": 1,
   "metadata": {},
   "outputs": [],
   "source": [
    "RAW_DIR = '/root/Methods/icmecheapfakes-submission/Output/Context_raw_task2'\n",
    "ANNOTATION_DIR = '/root/Methods/icmecheapfakes-submission/Dataset'\n",
    "OUTPUT_DIR = '/root/Methods/icmecheapfakes-submission/Output/Context_EL_task2'"
   ]
  },
  {
   "cell_type": "code",
   "execution_count": 2,
   "metadata": {},
   "outputs": [],
   "source": [
    "from os.path import join, isfile\n",
    "from os import listdir\n",
    "import re\n",
    "from itertools import groupby\n",
    "\n",
    "import json\n",
    "import pandas as pd\n",
    "from tqdm import tqdm\n",
    "tqdm.pandas()"
   ]
  },
  {
   "cell_type": "code",
   "execution_count": 11,
   "metadata": {},
   "outputs": [],
   "source": [
    "def get_image_id(filename: str) -> int:\n",
    "    return int(re.search('([0-9]+)_[0-9]+\\.txt', filename).group(1))\n",
    "\n",
    "context_files = [join(RAW_DIR, file) for file in listdir(RAW_DIR) if isfile(join(RAW_DIR, file))]\n",
    "context_files = sorted(context_files, key=get_image_id)\n",
    "\n",
    "context_files_grouped_by_image_id = {key: list(val) for key, val in groupby(context_files, key = get_image_id)}\n",
    "# print(len(context_files_grouped_by_image_id))\n",
    "# print(context_files_grouped_by_image_id[1])"
   ]
  },
  {
   "cell_type": "code",
   "execution_count": 4,
   "metadata": {},
   "outputs": [],
   "source": [
    "test_data = pd.read_json(join(ANNOTATION_DIR, 'test_data.json'), lines=True)\n"
   ]
  },
  {
   "cell_type": "code",
   "execution_count": 5,
   "metadata": {},
   "outputs": [
    {
     "name": "stderr",
     "output_type": "stream",
     "text": [
      "/root/miniconda3/envs/EL/lib/python3.10/site-packages/tqdm/auto.py:22: TqdmWarning: IProgress not found. Please update jupyter and ipywidgets. See https://ipywidgets.readthedocs.io/en/stable/user_install.html\n",
      "  from .autonotebook import tqdm as notebook_tqdm\n"
     ]
    },
    {
     "name": "stdout",
     "output_type": "stream",
     "text": [
      "\u001b[38;5;4mℹ Pipeline construct complete\u001b[0m\n"
     ]
    },
    {
     "name": "stderr",
     "output_type": "stream",
     "text": [
      "Some weights of the model checkpoint at /root/.cache/refined/roberta-base were not used when initializing RobertaModel: ['lm_head.dense.weight', 'lm_head.dense.bias', 'lm_head.layer_norm.weight', 'lm_head.decoder.weight', 'lm_head.bias', 'lm_head.layer_norm.bias']\n",
      "- This IS expected if you are initializing RobertaModel from the checkpoint of a model trained on another task or with another architecture (e.g. initializing a BertForSequenceClassification model from a BertForPreTraining model).\n",
      "- This IS NOT expected if you are initializing RobertaModel from the checkpoint of a model that you expect to be exactly identical (initializing a BertForSequenceClassification model from a BertForSequenceClassification model).\n",
      "Some weights of the model checkpoint at /root/.cache/refined/roberta-base were not used when initializing RobertaModel: ['lm_head.dense.weight', 'lm_head.dense.bias', 'lm_head.layer_norm.weight', 'lm_head.decoder.weight', 'lm_head.bias', 'lm_head.layer_norm.bias']\n",
      "- This IS expected if you are initializing RobertaModel from the checkpoint of a model trained on another task or with another architecture (e.g. initializing a BertForSequenceClassification model from a BertForPreTraining model).\n",
      "- This IS NOT expected if you are initializing RobertaModel from the checkpoint of a model that you expect to be exactly identical (initializing a BertForSequenceClassification model from a BertForSequenceClassification model).\n",
      "100%|██████████| 1000/1000 [00:16<00:00, 58.94it/s]\n",
      "100%|██████████| 1000/1000 [00:15<00:00, 63.43it/s]\n",
      "100%|██████████| 1000/1000 [00:00<00:00, 50519.18it/s]\n"
     ]
    }
   ],
   "source": [
    "from coref import resolve_references\n",
    "from entity_linking import entity_linking\n",
    "\n",
    "def parse_entity(row, col_name):\n",
    "    return entity_linking(row[col_name])\n",
    "\n",
    "def union(lst1, lst2):\n",
    "    final_list = list(set(lst1) | set(lst2))\n",
    "    return final_list\n",
    "\n",
    "test_data['caption1_entities'] = test_data.progress_apply(lambda x: parse_entity(x, 'caption1'), axis=1)\n",
    "test_data['caption2_entities'] = test_data.progress_apply(lambda x: parse_entity(x, 'caption2'), axis=1)\n",
    "test_data['caption_entities'] = test_data.progress_apply(lambda x: union(x['caption1_entities'], x['caption2_entities']), axis=1)"
   ]
  },
  {
   "cell_type": "code",
   "execution_count": 6,
   "metadata": {},
   "outputs": [
    {
     "data": {
      "text/html": [
       "<div>\n",
       "<style scoped>\n",
       "    .dataframe tbody tr th:only-of-type {\n",
       "        vertical-align: middle;\n",
       "    }\n",
       "\n",
       "    .dataframe tbody tr th {\n",
       "        vertical-align: top;\n",
       "    }\n",
       "\n",
       "    .dataframe thead th {\n",
       "        text-align: right;\n",
       "    }\n",
       "</style>\n",
       "<table border=\"1\" class=\"dataframe\">\n",
       "  <thead>\n",
       "    <tr style=\"text-align: right;\">\n",
       "      <th></th>\n",
       "      <th>img_local_path</th>\n",
       "      <th>caption1</th>\n",
       "      <th>caption2</th>\n",
       "      <th>context_label</th>\n",
       "      <th>article_url</th>\n",
       "      <th>maskrcnn_bboxes</th>\n",
       "      <th>caption1_modified</th>\n",
       "      <th>caption1_entities</th>\n",
       "      <th>caption2_modified</th>\n",
       "      <th>caption2_entities</th>\n",
       "      <th>bert_base_score</th>\n",
       "      <th>bert_large_score</th>\n",
       "      <th>caption_entities</th>\n",
       "    </tr>\n",
       "  </thead>\n",
       "  <tbody>\n",
       "    <tr>\n",
       "      <th>0</th>\n",
       "      <td>public_test_mmsys/0.jpg</td>\n",
       "      <td>Julian Castro at his announcement in San Anton...</td>\n",
       "      <td>Julian Castro at his announcement in San Anton...</td>\n",
       "      <td>0</td>\n",
       "      <td>https://www.nytimes.com/2019/06/13/us/politics...</td>\n",
       "      <td>[[389.9706726074219, 72.9228744506836, 505.056...</td>\n",
       "      <td>PERSON at his announcement in GPE, GPE, on DAT...</td>\n",
       "      <td>[(Julian Castro, Q970720, PERSON), (San Antoni...</td>\n",
       "      <td>PERSON at his announcement in GPE, GPE, on DATE.</td>\n",
       "      <td>[(Julian Castro, Q970720, PERSON), (San Antoni...</td>\n",
       "      <td>0.576995</td>\n",
       "      <td>0.601183</td>\n",
       "      <td>[(Castro, Q970720, PERSON), (Tex, Q1439, GPE),...</td>\n",
       "    </tr>\n",
       "    <tr>\n",
       "      <th>1</th>\n",
       "      <td>public_test_mmsys/1.jpg</td>\n",
       "      <td>Supporters of Tanzania's ruling Chama Cha Mapi...</td>\n",
       "      <td>A person sits on a truck as supporters of the ...</td>\n",
       "      <td>0</td>\n",
       "      <td>https://www.bbc.com/news/world-africa-54828934</td>\n",
       "      <td>[[389.6280517578125, 8.949727058410645, 609.61...</td>\n",
       "      <td>Supporters of GPE's ruling ORG party come out ...</td>\n",
       "      <td>[(Tanzania, Q924, GPE), (Chama Cha Mapinduzi, ...</td>\n",
       "      <td>A person sits on a truck as supporters of the ...</td>\n",
       "      <td>[(Chama Cha Mapinduzi (, None, ORG), (Revoluti...</td>\n",
       "      <td>0.541939</td>\n",
       "      <td>0.729243</td>\n",
       "      <td>[(Zanzibar, Q1774, GPE), (Friday, None, DATE),...</td>\n",
       "    </tr>\n",
       "    <tr>\n",
       "      <th>2</th>\n",
       "      <td>public_test_mmsys/2.jpg</td>\n",
       "      <td>53,000 dead people turned up on the state’s vo...</td>\n",
       "      <td>These social media posts did not link to a rec...</td>\n",
       "      <td>1</td>\n",
       "      <td>https://www.snopes.com/fact-check/53000-dead-f...</td>\n",
       "      <td>[[0.0, 14.214579582214355, 326.70501708984375,...</td>\n",
       "      <td>CARDINAL dead people turned up on the state’s ...</td>\n",
       "      <td>[(53,000, None, CARDINAL), (November 2018, Non...</td>\n",
       "      <td>These social media posts did not link to a rec...</td>\n",
       "      <td>[(Florida, Q812, GPE), (November 2018, None, D...</td>\n",
       "      <td>0.234810</td>\n",
       "      <td>0.307628</td>\n",
       "      <td>[(Florida, Q812, GPE), (53,000, None, CARDINAL...</td>\n",
       "    </tr>\n",
       "  </tbody>\n",
       "</table>\n",
       "</div>"
      ],
      "text/plain": [
       "            img_local_path                                           caption1  \\\n",
       "0  public_test_mmsys/0.jpg  Julian Castro at his announcement in San Anton...   \n",
       "1  public_test_mmsys/1.jpg  Supporters of Tanzania's ruling Chama Cha Mapi...   \n",
       "2  public_test_mmsys/2.jpg  53,000 dead people turned up on the state’s vo...   \n",
       "\n",
       "                                            caption2  context_label  \\\n",
       "0  Julian Castro at his announcement in San Anton...              0   \n",
       "1  A person sits on a truck as supporters of the ...              0   \n",
       "2  These social media posts did not link to a rec...              1   \n",
       "\n",
       "                                         article_url  \\\n",
       "0  https://www.nytimes.com/2019/06/13/us/politics...   \n",
       "1     https://www.bbc.com/news/world-africa-54828934   \n",
       "2  https://www.snopes.com/fact-check/53000-dead-f...   \n",
       "\n",
       "                                     maskrcnn_bboxes  \\\n",
       "0  [[389.9706726074219, 72.9228744506836, 505.056...   \n",
       "1  [[389.6280517578125, 8.949727058410645, 609.61...   \n",
       "2  [[0.0, 14.214579582214355, 326.70501708984375,...   \n",
       "\n",
       "                                   caption1_modified  \\\n",
       "0  PERSON at his announcement in GPE, GPE, on DAT...   \n",
       "1  Supporters of GPE's ruling ORG party come out ...   \n",
       "2  CARDINAL dead people turned up on the state’s ...   \n",
       "\n",
       "                                   caption1_entities  \\\n",
       "0  [(Julian Castro, Q970720, PERSON), (San Antoni...   \n",
       "1  [(Tanzania, Q924, GPE), (Chama Cha Mapinduzi, ...   \n",
       "2  [(53,000, None, CARDINAL), (November 2018, Non...   \n",
       "\n",
       "                                   caption2_modified  \\\n",
       "0   PERSON at his announcement in GPE, GPE, on DATE.   \n",
       "1  A person sits on a truck as supporters of the ...   \n",
       "2  These social media posts did not link to a rec...   \n",
       "\n",
       "                                   caption2_entities  bert_base_score  \\\n",
       "0  [(Julian Castro, Q970720, PERSON), (San Antoni...         0.576995   \n",
       "1  [(Chama Cha Mapinduzi (, None, ORG), (Revoluti...         0.541939   \n",
       "2  [(Florida, Q812, GPE), (November 2018, None, D...         0.234810   \n",
       "\n",
       "   bert_large_score                                   caption_entities  \n",
       "0          0.601183  [(Castro, Q970720, PERSON), (Tex, Q1439, GPE),...  \n",
       "1          0.729243  [(Zanzibar, Q1774, GPE), (Friday, None, DATE),...  \n",
       "2          0.307628  [(Florida, Q812, GPE), (53,000, None, CARDINAL...  "
      ]
     },
     "execution_count": 6,
     "metadata": {},
     "output_type": "execute_result"
    }
   ],
   "source": [
    "test_data.head(3)"
   ]
  },
  {
   "cell_type": "code",
   "execution_count": 34,
   "metadata": {},
   "outputs": [
    {
     "name": "stderr",
     "output_type": "stream",
     "text": [
      "100%|██████████| 1000/1000 [43:20<00:00,  2.60s/it]  \n"
     ]
    }
   ],
   "source": [
    "def intersect(list1, list2):\n",
    "    list1 = [u[1] if u[1] else u[0] for u in list1]\n",
    "    list2 = [u[1] if u[1] else u[0] for u in list2]\n",
    "    # print(list1, list2)\n",
    "    return len(set(list1).intersection(set(list2))) > 0\n",
    "\n",
    "for i in tqdm(range(1000)):\n",
    "    if context_files_grouped_by_image_id.get(i, None):\n",
    "        # print(context_files_grouped_by_image_id[i])\n",
    "        for name in context_files_grouped_by_image_id[i]:\n",
    "            # print(f'Processing {name}')\n",
    "            with open(name, 'r', encoding='utf8') as file:\n",
    "                content = json.load(file)\n",
    "        \n",
    "            context = content['context']\n",
    "            if context == '':\n",
    "                continue\n",
    "\n",
    "            # context_resolved = resolve_references(context)\n",
    "            context_resolved = context\n",
    "\n",
    "            new_context = []\n",
    "            for sentence in context_resolved.split('\\n'):\n",
    "                if intersect(entity_linking(sentence + \".\"), test_data.iloc[i].caption_entities):\n",
    "                    new_context.append(sentence)\n",
    "\n",
    "            content['context'] = '\\n'.join(new_context)\n",
    "            # Change output dir\n",
    "            new_filename = name.replace(RAW_DIR, OUTPUT_DIR)\n",
    "            with open(new_filename, 'w+', encoding='utf8') as file:\n",
    "                json.dump(content, file)\n"
   ]
  },
  {
   "cell_type": "code",
   "execution_count": 32,
   "metadata": {},
   "outputs": [
    {
     "name": "stdout",
     "output_type": "stream",
     "text": [
      "None\n"
     ]
    }
   ],
   "source": [
    "print(context_files_grouped_by_image_id.get(99, None))"
   ]
  }
 ],
 "metadata": {
  "kernelspec": {
   "display_name": "EL",
   "language": "python",
   "name": "python3"
  },
  "language_info": {
   "codemirror_mode": {
    "name": "ipython",
    "version": 3
   },
   "file_extension": ".py",
   "mimetype": "text/x-python",
   "name": "python",
   "nbconvert_exporter": "python",
   "pygments_lexer": "ipython3",
   "version": "3.10.9"
  },
  "orig_nbformat": 4,
  "vscode": {
   "interpreter": {
    "hash": "d9656cac73997dc2e2ab3782f08d066853a6dc96c12ea41ede78190e9fa265cd"
   }
  }
 },
 "nbformat": 4,
 "nbformat_minor": 2
}
